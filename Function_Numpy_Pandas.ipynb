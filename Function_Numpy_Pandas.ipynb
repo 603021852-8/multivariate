{
  "nbformat": 4,
  "nbformat_minor": 0,
  "metadata": {
    "colab": {
      "name": "Function_Numpy_Pandas.ipynb",
      "provenance": [],
      "authorship_tag": "ABX9TyOA9HMqkIUONXRhBhdUOL51",
      "include_colab_link": true
    },
    "kernelspec": {
      "name": "python3",
      "display_name": "Python 3"
    }
  },
  "cells": [
    {
      "cell_type": "markdown",
      "metadata": {
        "id": "view-in-github",
        "colab_type": "text"
      },
      "source": [
        "<a href=\"https://colab.research.google.com/github/603021852-8/multivariate/blob/main/Function_Numpy_Pandas.ipynb\" target=\"_parent\"><img src=\"https://colab.research.google.com/assets/colab-badge.svg\" alt=\"Open In Colab\"/></a>"
      ]
    },
    {
      "cell_type": "markdown",
      "metadata": {
        "id": "r8EarOeSSN_2"
      },
      "source": [
        "# Function"
      ]
    },
    {
      "cell_type": "markdown",
      "metadata": {
        "id": "70oYOmtyTApm"
      },
      "source": [
        "```python\r\n",
        "def function_name(_Input_) : \r\n",
        "    do_something with _Input_ to get _Output_\r\n",
        "    return _Output_\r\n",
        "```\r\n",
        "\r\n",
        "*เอียง*\r\n",
        "\r\n",
        "```backtick กดค้างตรงที่เปลี่ยนภาษา"
      ]
    },
    {
      "cell_type": "markdown",
      "metadata": {
        "id": "s1TvkuYlT5Ai"
      },
      "source": [
        "function มีส่วนสำคัญทั้งหมด 4 ส่วน\r\n",
        "1. บอก python ว่าเราเขียนฟังก์ชั่น ชื่ออะไร def function_name(): ขาดไม่ได้ \\\r\n",
        "2. กำหนดตัวแปรที่จะเป็น input : ขาดไม่ได้\r\n",
        "3. ส่วนประมวลผล do_something with Input to get Output :ขาดไม่ได้\r\n",
        "4. ส่วน output return Output : ขาดไม่ได้\r\n"
      ]
    },
    {
      "cell_type": "code",
      "metadata": {
        "id": "h-70jQdfUiQ1"
      },
      "source": [
        "def print_name(name,surname,ID) :\r\n",
        "     st = f'ชื่อ {name} นามสกุล {surname} ID {ID}'\r\n",
        "     return st"
      ],
      "execution_count": null,
      "outputs": []
    },
    {
      "cell_type": "code",
      "metadata": {
        "colab": {
          "base_uri": "https://localhost:8080/",
          "height": 35
        },
        "id": "a3xg5fosVF-L",
        "outputId": "290b11db-8bb7-40eb-b947-291685db5878"
      },
      "source": [
        "print_name('กิตติมา' , 'อุปสุข' , '623021040-6')"
      ],
      "execution_count": null,
      "outputs": [
        {
          "output_type": "execute_result",
          "data": {
            "application/vnd.google.colaboratory.intrinsic+json": {
              "type": "string"
            },
            "text/plain": [
              "'ชื่อ กิตติมา นามสกุล อุปสุข ID 623021040-6'"
            ]
          },
          "metadata": {
            "tags": []
          },
          "execution_count": 3
        }
      ]
    },
    {
      "cell_type": "code",
      "metadata": {
        "colab": {
          "base_uri": "https://localhost:8080/"
        },
        "id": "uQIU5XTGVmOG",
        "outputId": "45105f3c-0584-41de-f5d5-096b583c4151"
      },
      "source": [
        "output_string = print_name('กิตติมา' , 'อุปสุข' , '623021040-6')\r\n",
        "print(output_string)"
      ],
      "execution_count": null,
      "outputs": [
        {
          "output_type": "stream",
          "text": [
            "ชื่อ กิตติมา นามสกุล อุปสุข ID 623021040-6\n"
          ],
          "name": "stdout"
        }
      ]
    },
    {
      "cell_type": "markdown",
      "metadata": {
        "id": "7RZAY911X0NW"
      },
      "source": [
        "## ฟังก์ชั่นไม่จำเป็นต้องมี output"
      ]
    },
    {
      "cell_type": "code",
      "metadata": {
        "id": "L41p4FCFXka9"
      },
      "source": [
        "def print_name2(name,surname,ID) :\r\n",
        "     st = f'ชื่อ {name} นามสกุล {surname} ID {ID}'\r\n",
        "     print(st)"
      ],
      "execution_count": null,
      "outputs": []
    },
    {
      "cell_type": "code",
      "metadata": {
        "colab": {
          "base_uri": "https://localhost:8080/"
        },
        "id": "5DtbmYHQYF8C",
        "outputId": "1fff1baf-7e2a-4767-feb2-28968446e61e"
      },
      "source": [
        "print_name2('กิตติมา' , 'อุปสุข' , '623021040-6')"
      ],
      "execution_count": null,
      "outputs": [
        {
          "output_type": "stream",
          "text": [
            "ชื่อ กิตติมา นามสกุล อุปสุข ID 623021040-6\n"
          ],
          "name": "stdout"
        }
      ]
    },
    {
      "cell_type": "code",
      "metadata": {
        "colab": {
          "base_uri": "https://localhost:8080/"
        },
        "id": "4PQga_H_YMd5",
        "outputId": "01306795-2acf-4117-d276-7e4c8f19c9af"
      },
      "source": [
        "op2 = print_name2('กิตติมา' , 'อุปสุข' , '623021040-6')"
      ],
      "execution_count": null,
      "outputs": [
        {
          "output_type": "stream",
          "text": [
            "ชื่อ กิตติมา นามสกุล อุปสุข ID 623021040-6\n"
          ],
          "name": "stdout"
        }
      ]
    },
    {
      "cell_type": "code",
      "metadata": {
        "colab": {
          "base_uri": "https://localhost:8080/"
        },
        "id": "QXs8NJFIYXP6",
        "outputId": "51b22b93-1fb1-4d58-e918-f985e9676eec"
      },
      "source": [
        "print(op2)"
      ],
      "execution_count": null,
      "outputs": [
        {
          "output_type": "stream",
          "text": [
            "None\n"
          ],
          "name": "stdout"
        }
      ]
    },
    {
      "cell_type": "code",
      "metadata": {
        "id": "kSiB4aYtY7hG"
      },
      "source": [
        "def Pi(): \r\n",
        "     return 3.14159265359"
      ],
      "execution_count": null,
      "outputs": []
    },
    {
      "cell_type": "code",
      "metadata": {
        "colab": {
          "base_uri": "https://localhost:8080/"
        },
        "id": "KqQcobe6Zda0",
        "outputId": "3e0e7a84-6007-43d4-f4d0-1b22690e3050"
      },
      "source": [
        "# คำนวณพื้อที่วงกลมที่มีขนาดเส้นผ่านศูนย์กลางเท่ากับ 3\r\n",
        "Pi()*(1.5**2)\r\n"
      ],
      "execution_count": null,
      "outputs": [
        {
          "output_type": "execute_result",
          "data": {
            "text/plain": [
              "7.0685834705775"
            ]
          },
          "metadata": {
            "tags": []
          },
          "execution_count": 18
        }
      ]
    },
    {
      "cell_type": "code",
      "metadata": {
        "id": "qSNpa0IYZsSW"
      },
      "source": [
        "def print_my_name():\r\n",
        "     print('ธนพงศ์ อินทระ IDxxxxxxx')"
      ],
      "execution_count": null,
      "outputs": []
    },
    {
      "cell_type": "code",
      "metadata": {
        "colab": {
          "base_uri": "https://localhost:8080/",
          "height": 164
        },
        "id": "PtG33HUcaFl-",
        "outputId": "8a4c657e-f4ab-4922-ca5a-647dbe4826aa"
      },
      "source": [
        "print_my_name()"
      ],
      "execution_count": 4,
      "outputs": [
        {
          "output_type": "error",
          "ename": "NameError",
          "evalue": "ignored",
          "traceback": [
            "\u001b[0;31m---------------------------------------------------------------------------\u001b[0m",
            "\u001b[0;31mNameError\u001b[0m                                 Traceback (most recent call last)",
            "\u001b[0;32m<ipython-input-4-6a81008de136>\u001b[0m in \u001b[0;36m<module>\u001b[0;34m()\u001b[0m\n\u001b[0;32m----> 1\u001b[0;31m \u001b[0mprint_my_name\u001b[0m\u001b[0;34m(\u001b[0m\u001b[0;34m)\u001b[0m\u001b[0;34m\u001b[0m\u001b[0;34m\u001b[0m\u001b[0m\n\u001b[0m",
            "\u001b[0;31mNameError\u001b[0m: name 'print_my_name' is not defined"
          ]
        }
      ]
    },
    {
      "cell_type": "markdown",
      "metadata": {
        "id": "A4CcDm5caS9g"
      },
      "source": [
        "### input ของ function ใน python มีสองแบบ input ที่จำเป็นต้องใส่กับ input ที่ไม่จำเป็นต้องใส่ (มีค่า default) เราต้องเรียง input ที่จำเป็นต้องใส่ขึ้นก่อน"
      ]
    },
    {
      "cell_type": "code",
      "metadata": {
        "id": "4DMk-iPna0Rv"
      },
      "source": [
        "def print_2lines_default(name, surname, ID, grade='F'):\r\n",
        "     st = f'ชื่อ {name} นามสกุล {surname} รหัส {ID}'\r\n",
        "     print(st)\r\n",
        "     st2=f'เกรดวิชา Multivariate >>> {grade}'\r\n",
        "     print(st2)"
      ],
      "execution_count": 2,
      "outputs": []
    },
    {
      "cell_type": "code",
      "metadata": {
        "colab": {
          "base_uri": "https://localhost:8080/"
        },
        "id": "4AYXE84pbZA-",
        "outputId": "d78060e5-5ff7-41d7-9364-0250a1d43952"
      },
      "source": [
        "print_2lines_default('ภิญญาดา' , 'เพ็ญสุข' , '623021052-2')"
      ],
      "execution_count": 3,
      "outputs": [
        {
          "output_type": "stream",
          "text": [
            "ชื่อ ภิญญาดา นามสกุล เพ็ญสุข รหัส 623021052-2\n",
            "เกรดวิชา Multivariate >>> F\n"
          ],
          "name": "stdout"
        }
      ]
    },
    {
      "cell_type": "code",
      "metadata": {
        "id": "Zmf6objDcqTe",
        "colab": {
          "base_uri": "https://localhost:8080/"
        },
        "outputId": "74b93588-697f-4b83-aa64-45a80ec216a6"
      },
      "source": [
        "print_2lines_default('ภิญญาดา' , 'เพ็ญสุข' , '623021052-2' , 'A') # หรือ\r\n"
      ],
      "execution_count": 6,
      "outputs": [
        {
          "output_type": "stream",
          "text": [
            "ชื่อ ภิญญาดา นามสกุล เพ็ญสุข รหัส 623021052-2\n",
            "เกรดวิชา Multivariate >>> A\n"
          ],
          "name": "stdout"
        }
      ]
    },
    {
      "cell_type": "markdown",
      "metadata": {
        "id": "zN7Z0mmxcmM8"
      },
      "source": [
        "HW3 ให้เขียน function คำนวณจำนวนวินาทีจาก เวลาต่อไปนี้ \\\r\n",
        "'14-15-31' \\\r\n",
        "'13-00-01' \\\r\n",
        "'05-49-44' \\\r\n",
        "'00-00'16' \\\r\n",
        "และ print ให้สวยงาม"
      ]
    },
    {
      "cell_type": "code",
      "metadata": {
        "id": "NjFTCHqKcBNU"
      },
      "source": [
        "def function_q (times):\r\n",
        "    q = f'เวลา  {times}'\r\n",
        "    print(q)\r\n",
        "    times_sp = times.split('-')\r\n",
        "    h = int(times_sp[0])*3600    # เปลี่ยนชั่วโมงเป็นวินาที\r\n",
        "    m = int(times_sp[1])*60      # เปลี่ยนนาทีเป็นวินาที\r\n",
        "    s = int(times_sp[2])\r\n",
        "    answer = h+m+s         # นำจำนวนทั้งหมดมารวมกัน เป็นจำนวน ' วินาที ' ทั้งหมด\r\n",
        "    print(f'คำนวณเป็นวินาทีได้เท่ากับ {answer} วินาที')     # แสดงคำตอบ"
      ],
      "execution_count": 42,
      "outputs": []
    },
    {
      "cell_type": "code",
      "metadata": {
        "colab": {
          "base_uri": "https://localhost:8080/"
        },
        "id": "pxjyIR3Z838V",
        "outputId": "e16dfdbe-de6b-41bb-cb0b-8066d6fd2677"
      },
      "source": [
        "function_q('14-15-31')"
      ],
      "execution_count": 35,
      "outputs": [
        {
          "output_type": "stream",
          "text": [
            "เวลา  14-15-31\n",
            "คำนวณเป็นวินาทีได้เท่ากับ 51331 วินาที\n"
          ],
          "name": "stdout"
        }
      ]
    },
    {
      "cell_type": "code",
      "metadata": {
        "colab": {
          "base_uri": "https://localhost:8080/"
        },
        "id": "-ixlmNGU8-TC",
        "outputId": "3c39461a-35c8-4367-e91f-708b89d8748d"
      },
      "source": [
        "function_q('13-00-01')"
      ],
      "execution_count": 36,
      "outputs": [
        {
          "output_type": "stream",
          "text": [
            "เวลา  13-00-01\n",
            "คำนวณเป็นวินาทีได้เท่ากับ 46801 วินาที\n"
          ],
          "name": "stdout"
        }
      ]
    },
    {
      "cell_type": "code",
      "metadata": {
        "colab": {
          "base_uri": "https://localhost:8080/"
        },
        "id": "kmpQ7Hd-9EIT",
        "outputId": "49c3a663-4815-4efe-c713-4a00ac70b49a"
      },
      "source": [
        "function_q('05-49-44')"
      ],
      "execution_count": 37,
      "outputs": [
        {
          "output_type": "stream",
          "text": [
            "เวลา  05-49-44\n",
            "คำนวณเป็นวินาทีได้เท่ากับ 20984 วินาที\n"
          ],
          "name": "stdout"
        }
      ]
    },
    {
      "cell_type": "code",
      "metadata": {
        "colab": {
          "base_uri": "https://localhost:8080/"
        },
        "id": "zFiSjSPk9NEi",
        "outputId": "70763223-3737-47d3-d47f-297f929f66fc"
      },
      "source": [
        "function_q('00-00-16')"
      ],
      "execution_count": 38,
      "outputs": [
        {
          "output_type": "stream",
          "text": [
            "เวลา  00-00-16\n",
            "คำนวณเป็นวินาทีได้เท่ากับ 16 วินาที\n"
          ],
          "name": "stdout"
        }
      ]
    }
  ]
}