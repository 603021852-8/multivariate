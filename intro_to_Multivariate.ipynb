{
  "nbformat": 4,
  "nbformat_minor": 0,
  "metadata": {
    "colab": {
      "name": "intro to Multivariate.ipynb",
      "provenance": [],
      "authorship_tag": "ABX9TyNGGkbQPxd2CZgAdVSLxEzz",
      "include_colab_link": true
    },
    "kernelspec": {
      "name": "python3",
      "display_name": "Python 3"
    }
  },
  "cells": [
    {
      "cell_type": "markdown",
      "metadata": {
        "id": "view-in-github",
        "colab_type": "text"
      },
      "source": [
        "<a href=\"https://colab.research.google.com/github/603021852-8/multivariate/blob/main/intro_to_Multivariate.ipynb\" target=\"_parent\"><img src=\"https://colab.research.google.com/assets/colab-badge.svg\" alt=\"Open In Colab\"/></a>"
      ]
    },
    {
      "cell_type": "markdown",
      "metadata": {
        "id": "JZFv5AQauw43"
      },
      "source": [
        "กรกนก สังฆพันธ์ 603021852-8"
      ]
    },
    {
      "cell_type": "code",
      "metadata": {
        "colab": {
          "base_uri": "https://localhost:8080/"
        },
        "id": "v4PkZJ_CvFQH",
        "outputId": "f3219595-f457-41a9-942c-25b30c697c45"
      },
      "source": [
        "print('กรกนก') #single quote (')"
      ],
      "execution_count": 2,
      "outputs": [
        {
          "output_type": "stream",
          "text": [
            "กรกนก\n"
          ],
          "name": "stdout"
        }
      ]
    }
  ]
}